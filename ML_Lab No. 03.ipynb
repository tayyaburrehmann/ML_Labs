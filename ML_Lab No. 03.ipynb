{
 "cells": [
  {
   "cell_type": "code",
   "execution_count": 2,
   "id": "608b9563",
   "metadata": {},
   "outputs": [
    {
     "name": "stdout",
     "output_type": "stream",
     "text": [
      "Negative\n",
      "Zero\n",
      "Positive\n"
     ]
    }
   ],
   "source": [
    "def sign (x):\n",
    "    if x>0: \n",
    "        return 'Positive'\n",
    "    elif x<0: \n",
    "        return 'Negative'\n",
    "    else:\n",
    "        return 'Zero'\n",
    "\n",
    "for x in [-1, 0 , 1]:\n",
    "    print (sign(x))\n",
    "    "
   ]
  },
  {
   "cell_type": "code",
   "execution_count": 17,
   "id": "ae3faabf",
   "metadata": {},
   "outputs": [],
   "source": [
    "#Numpy"
   ]
  },
  {
   "cell_type": "code",
   "execution_count": 3,
   "id": "1fb66d2d",
   "metadata": {},
   "outputs": [],
   "source": [
    "import numpy as np"
   ]
  },
  {
   "cell_type": "code",
   "execution_count": 6,
   "id": "c795ea04",
   "metadata": {},
   "outputs": [
    {
     "name": "stdout",
     "output_type": "stream",
     "text": [
      "<class 'numpy.ndarray'> 1 2 3\n",
      "[5 2 3]\n"
     ]
    }
   ],
   "source": [
    "a = np.array([1, 2,3])\n",
    "print (type(a), a[0], a[1], a[2])\n",
    "a[0]= 5\n",
    "print (a)"
   ]
  },
  {
   "cell_type": "code",
   "execution_count": 7,
   "id": "a3410a82",
   "metadata": {},
   "outputs": [
    {
     "name": "stdout",
     "output_type": "stream",
     "text": [
      "[[1 2 3]\n",
      " [4 5 6]]\n"
     ]
    }
   ],
   "source": [
    "b = np.array([[1,2,3],[4,5,6]]) # Create a rank 2 array\n",
    "print(b)"
   ]
  },
  {
   "cell_type": "code",
   "execution_count": 8,
   "id": "761d4417",
   "metadata": {},
   "outputs": [
    {
     "name": "stdout",
     "output_type": "stream",
     "text": [
      "(2, 3)\n",
      "1 2 4\n"
     ]
    }
   ],
   "source": [
    "print(b.shape)\n",
    "print(b[0, 0], b[0, 1], b[1, 0])"
   ]
  },
  {
   "cell_type": "code",
   "execution_count": 10,
   "id": "f19a57dd",
   "metadata": {},
   "outputs": [
    {
     "name": "stdout",
     "output_type": "stream",
     "text": [
      "[[7 7]\n",
      " [7 7]]\n"
     ]
    }
   ],
   "source": [
    "a = np.zeros((2,2)) # Create an array of all zeros print(a)\n",
    "b = np.ones((1,2)) # Create an array of all ones print(b)\n",
    "c = np.full((2,2), 7) # Create a constant array\n",
    "print (c)"
   ]
  },
  {
   "cell_type": "code",
   "execution_count": 13,
   "id": "b5a7e634",
   "metadata": {},
   "outputs": [
    {
     "name": "stdout",
     "output_type": "stream",
     "text": [
      "[[1. 0.]\n",
      " [0. 1.]]\n"
     ]
    }
   ],
   "source": [
    "d = np.eye(2)\n",
    "print (d)"
   ]
  },
  {
   "cell_type": "code",
   "execution_count": 15,
   "id": "21c5fc31",
   "metadata": {},
   "outputs": [
    {
     "name": "stdout",
     "output_type": "stream",
     "text": [
      "[[0.82706048 0.76230902]\n",
      " [0.44414816 0.15134371]]\n"
     ]
    }
   ],
   "source": [
    "e= np.random.random((2,2))\n",
    "print (e)"
   ]
  },
  {
   "cell_type": "code",
   "execution_count": 16,
   "id": "eed89bbe",
   "metadata": {},
   "outputs": [],
   "source": [
    "#Array Indexing"
   ]
  },
  {
   "cell_type": "code",
   "execution_count": 24,
   "id": "8d6fbbae",
   "metadata": {},
   "outputs": [
    {
     "name": "stdout",
     "output_type": "stream",
     "text": [
      "[[ 1  2  3  4]\n",
      " [ 5  6  7  8]\n",
      " [ 9 10 11 12]]\n",
      "\n",
      " [[2 3]\n",
      " [6 7]]\n"
     ]
    }
   ],
   "source": [
    "a1 = np.array([[1,2,3,4], [5,6,7,8], [9,10,11,12]])\n",
    "print (a1)\n",
    "b1 = a1[:2, 1:3]\n",
    "print ('\\n',b1)"
   ]
  },
  {
   "cell_type": "code",
   "execution_count": 23,
   "id": "d0340593",
   "metadata": {},
   "outputs": [],
   "source": [
    "#Playing With row functions"
   ]
  },
  {
   "cell_type": "code",
   "execution_count": 25,
   "id": "c7921921",
   "metadata": {},
   "outputs": [
    {
     "name": "stdout",
     "output_type": "stream",
     "text": [
      "[5 6 7 8] (4,)\n",
      "[[5 6 7 8]] (1, 4)\n",
      "[[5 6 7 8]] (1, 4)\n"
     ]
    }
   ],
   "source": [
    "row_r1 = a1[1, :] # Rank 1 view of the second row of a\n",
    "row_r2 = a1[1:2, :] # Rank 2 view of the second row of a\n",
    "row_r3 = a1[[1], :] # Rank 2 view of the second row of a\n",
    "print(row_r1, row_r1.shape)\n",
    "print(row_r2, row_r2.shape)\n",
    "print(row_r3, row_r3.shape)"
   ]
  },
  {
   "cell_type": "code",
   "execution_count": 26,
   "id": "c16dbb2c",
   "metadata": {},
   "outputs": [],
   "source": [
    "#Playing with Columns"
   ]
  },
  {
   "cell_type": "code",
   "execution_count": 27,
   "id": "669452b4",
   "metadata": {},
   "outputs": [
    {
     "name": "stdout",
     "output_type": "stream",
     "text": [
      "[ 2  6 10] (3,)\n",
      "\n",
      "[[ 2]\n",
      " [ 6]\n",
      " [10]] (3, 1)\n"
     ]
    }
   ],
   "source": [
    "col_r1 = a1[:, 1]\n",
    "col_r2 = a1[:, 1:2]\n",
    "print(col_r1, col_r1.shape)\n",
    "print()\n",
    "print(col_r2, col_r2.shape)"
   ]
  },
  {
   "cell_type": "code",
   "execution_count": 31,
   "id": "04f4977e",
   "metadata": {},
   "outputs": [
    {
     "name": "stdout",
     "output_type": "stream",
     "text": [
      "Array \n",
      "\n",
      " [[1 2]\n",
      " [3 4]\n",
      " [5 6]] \n",
      "\n",
      "[1 4 5]\n",
      "[1 4 5]\n",
      "[2 2]\n",
      "[2 2]\n"
     ]
    }
   ],
   "source": [
    "a2 = np.array([[1,2], [3, 4], [5, 6]])\n",
    "print (\"Array \\n\\n\", a2, \"\\n\")\n",
    "\n",
    "print(a2[[0, 1, 2], [0, 1, 0]])\n",
    "\n",
    "print(np.array([a2[0, 0], a2[1, 1], a2[2, 0]]))\n",
    "\n",
    "print(a2[[0, 0], [1, 1]])\n",
    "\n",
    "print(np.array([a2[0, 1], a2[0, 1]]))"
   ]
  },
  {
   "cell_type": "code",
   "execution_count": 33,
   "id": "f612ffc2",
   "metadata": {},
   "outputs": [
    {
     "name": "stdout",
     "output_type": "stream",
     "text": [
      "[[False False]\n",
      " [ True  True]\n",
      " [ True  True]]\n"
     ]
    }
   ],
   "source": [
    "\n",
    "bool_idx = (a2 > 2)\n",
    "print(bool_idx)"
   ]
  },
  {
   "cell_type": "code",
   "execution_count": 34,
   "id": "ce184603",
   "metadata": {},
   "outputs": [],
   "source": [
    "#Data Types"
   ]
  },
  {
   "cell_type": "code",
   "execution_count": 35,
   "id": "bcb8d8be",
   "metadata": {},
   "outputs": [
    {
     "name": "stdout",
     "output_type": "stream",
     "text": [
      "int32 float64 int64\n"
     ]
    }
   ],
   "source": [
    "x = np.array([1, 2]) # Let numpy choose the datatype\n",
    "y = np.array([1.0, 2.0]) # Let numpy choose the datatype\n",
    "z = np.array([1, 2], dtype=np.int64) # Force a particular datatype\n",
    "print(x.dtype, y.dtype, z.dtype)"
   ]
  },
  {
   "cell_type": "code",
   "execution_count": 36,
   "id": "71c4da4c",
   "metadata": {},
   "outputs": [],
   "source": [
    "#Array Math"
   ]
  },
  {
   "cell_type": "code",
   "execution_count": 37,
   "id": "c7057f90",
   "metadata": {},
   "outputs": [
    {
     "name": "stdout",
     "output_type": "stream",
     "text": [
      "[[ 6.  8.]\n",
      " [10. 12.]]\n",
      "[[ 6.  8.]\n",
      " [10. 12.]]\n"
     ]
    }
   ],
   "source": [
    "x = np.array([[1,2],[3,4]], dtype=np.float64)\n",
    "y = np.array([[5,6],[7,8]], dtype=np.float64)\n",
    "# Elementwise sum; both produce the array\n",
    "print(x + y)\n",
    "print(np.add(x, y))"
   ]
  },
  {
   "cell_type": "code",
   "execution_count": 39,
   "id": "192b99e2",
   "metadata": {},
   "outputs": [
    {
     "name": "stdout",
     "output_type": "stream",
     "text": [
      "Subtraction \n",
      "\n",
      "[[-4. -4.]\n",
      " [-4. -4.]]\n",
      "[[-4. -4.]\n",
      " [-4. -4.]]\n"
     ]
    }
   ],
   "source": [
    "print (\"Subtraction \\n\")\n",
    "print(x - y)\n",
    "print(np.subtract(x, y))"
   ]
  },
  {
   "cell_type": "code",
   "execution_count": 40,
   "id": "5fca1c25",
   "metadata": {},
   "outputs": [
    {
     "name": "stdout",
     "output_type": "stream",
     "text": [
      "Multiplication\n",
      "\n",
      " [[ 5. 12.]\n",
      " [21. 32.]]\n"
     ]
    }
   ],
   "source": [
    "print(\"Multiplication\\n\\n\", np.multiply(x, y))"
   ]
  },
  {
   "cell_type": "code",
   "execution_count": 41,
   "id": "b6a64ad5",
   "metadata": {},
   "outputs": [
    {
     "name": "stdout",
     "output_type": "stream",
     "text": [
      "Division\n",
      "\n",
      " [[0.2        0.33333333]\n",
      " [0.42857143 0.5       ]]\n"
     ]
    }
   ],
   "source": [
    "print(\"Division\\n\\n\",np.divide(x, y))"
   ]
  },
  {
   "cell_type": "code",
   "execution_count": 42,
   "id": "8e5b1b8e",
   "metadata": {},
   "outputs": [
    {
     "name": "stdout",
     "output_type": "stream",
     "text": [
      "Squrare Root of X\n",
      "\n",
      " [[1.         1.41421356]\n",
      " [1.73205081 2.        ]]\n"
     ]
    }
   ],
   "source": [
    "print ('Squrare Root of X\\n\\n', np.sqrt (x))"
   ]
  },
  {
   "cell_type": "code",
   "execution_count": null,
   "id": "df34d044",
   "metadata": {},
   "outputs": [],
   "source": []
  }
 ],
 "metadata": {
  "kernelspec": {
   "display_name": "Python 3 (ipykernel)",
   "language": "python",
   "name": "python3"
  },
  "language_info": {
   "codemirror_mode": {
    "name": "ipython",
    "version": 3
   },
   "file_extension": ".py",
   "mimetype": "text/x-python",
   "name": "python",
   "nbconvert_exporter": "python",
   "pygments_lexer": "ipython3",
   "version": "3.11.5"
  }
 },
 "nbformat": 4,
 "nbformat_minor": 5
}
