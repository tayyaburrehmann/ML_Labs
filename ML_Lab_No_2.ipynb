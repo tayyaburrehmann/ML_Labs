{
  "nbformat": 4,
  "nbformat_minor": 0,
  "metadata": {
    "colab": {
      "provenance": []
    },
    "kernelspec": {
      "name": "python3",
      "display_name": "Python 3"
    },
    "language_info": {
      "name": "python"
    }
  },
  "cells": [
    {
      "cell_type": "code",
      "execution_count": 1,
      "metadata": {
        "colab": {
          "base_uri": "https://localhost:8080/"
        },
        "id": "1MT5-4ByB_B6",
        "outputId": "9d6d7580-8eb6-4227-bfe5-cb44b2a2adb5"
      },
      "outputs": [
        {
          "output_type": "stream",
          "name": "stdout",
          "text": [
            "Hello World\n"
          ]
        }
      ],
      "source": [
        "# prompt: addition of 2 numbers\n",
        "\n",
        "def add(x, y):\n",
        "    return x + y\n",
        "\n",
        "print(add(5, 3))\n"
      ]
    },
    {
      "cell_type": "code",
      "source": [
        "# Lab No 01:"
      ],
      "metadata": {
        "id": "MZSoM0waCD51"
      },
      "execution_count": 2,
      "outputs": []
    },
    {
      "cell_type": "code",
      "source": [
        "x = 3\n",
        "print (x, type(x))"
      ],
      "metadata": {
        "colab": {
          "base_uri": "https://localhost:8080/"
        },
        "id": "EmUqBgoHCcG-",
        "outputId": "6a48ef16-bd52-4cdb-b077-cab90fe05e5b"
      },
      "execution_count": 4,
      "outputs": [
        {
          "output_type": "stream",
          "name": "stdout",
          "text": [
            "3 <class 'int'>\n"
          ]
        }
      ]
    },
    {
      "cell_type": "code",
      "source": [
        "print (x + 1)\n",
        "print (x - 1)\n",
        "print (x * 2)\n",
        "print (x ** 2)\n"
      ],
      "metadata": {
        "colab": {
          "base_uri": "https://localhost:8080/"
        },
        "id": "QAD8r3o2GDwJ",
        "outputId": "b8502a3d-fd5c-4355-feae-e5086cee31f7"
      },
      "execution_count": 5,
      "outputs": [
        {
          "output_type": "stream",
          "name": "stdout",
          "text": [
            "4\n",
            "2\n",
            "6\n",
            "9\n"
          ]
        }
      ]
    },
    {
      "cell_type": "code",
      "source": [
        "x+= 1\n",
        "print (x)\n",
        "x*= 2\n",
        "print (x)"
      ],
      "metadata": {
        "colab": {
          "base_uri": "https://localhost:8080/"
        },
        "id": "6_oQJOX7Gt4u",
        "outputId": "4b625ad2-adf1-495b-9674-c146b151ee65"
      },
      "execution_count": 6,
      "outputs": [
        {
          "output_type": "stream",
          "name": "stdout",
          "text": [
            "4\n",
            "8\n"
          ]
        }
      ]
    },
    {
      "cell_type": "code",
      "source": [
        "y = 2.5\n",
        "print (type(y))\n",
        "\n",
        "print (y, y+1, y*2, y**2)"
      ],
      "metadata": {
        "colab": {
          "base_uri": "https://localhost:8080/"
        },
        "id": "UjvaL2PpG1F_",
        "outputId": "7b5523ff-c946-4733-d758-1e414a86603c"
      },
      "execution_count": 7,
      "outputs": [
        {
          "output_type": "stream",
          "name": "stdout",
          "text": [
            "<class 'float'>\n",
            "2.5 3.5 5.0 6.25\n"
          ]
        }
      ]
    },
    {
      "cell_type": "code",
      "source": [
        "#Booleans IN Python"
      ],
      "metadata": {
        "id": "3XWAAwowHDv7"
      },
      "execution_count": 8,
      "outputs": []
    },
    {
      "cell_type": "code",
      "source": [
        "t, f = True, False\n",
        "print (type(t))"
      ],
      "metadata": {
        "colab": {
          "base_uri": "https://localhost:8080/"
        },
        "id": "cImY3yEvHKwY",
        "outputId": "f216dc5e-9536-4f67-fced-4c490149b98e"
      },
      "execution_count": 11,
      "outputs": [
        {
          "output_type": "stream",
          "name": "stdout",
          "text": [
            "<class 'bool'>\n"
          ]
        }
      ]
    },
    {
      "cell_type": "code",
      "source": [
        "print (t and f)\n",
        "print (t or f)\n",
        "print (not t)\n",
        "print (t != f)"
      ],
      "metadata": {
        "colab": {
          "base_uri": "https://localhost:8080/"
        },
        "id": "iUHXr6EYI-1v",
        "outputId": "da39b1e8-fed1-4ec3-d292-5359870b0bc9"
      },
      "execution_count": 12,
      "outputs": [
        {
          "output_type": "stream",
          "name": "stdout",
          "text": [
            "False\n",
            "True\n",
            "False\n",
            "True\n"
          ]
        }
      ]
    },
    {
      "cell_type": "code",
      "source": [
        "#Playing with strings"
      ],
      "metadata": {
        "id": "J6Wsu_2rJOl9"
      },
      "execution_count": 13,
      "outputs": []
    },
    {
      "cell_type": "code",
      "source": [
        "h = \"hello\"\n",
        "print (h)"
      ],
      "metadata": {
        "colab": {
          "base_uri": "https://localhost:8080/"
        },
        "id": "z78VOCtFJSjQ",
        "outputId": "b3dd715a-6d89-4fbf-907a-b87b9c99c375"
      },
      "execution_count": 14,
      "outputs": [
        {
          "output_type": "stream",
          "name": "stdout",
          "text": [
            "hello\n"
          ]
        }
      ]
    },
    {
      "cell_type": "code",
      "source": [
        "#Different types of function\n",
        "print (h.capitalize())\n",
        "print (h.upper())\n",
        "print (h.center(7))"
      ],
      "metadata": {
        "colab": {
          "base_uri": "https://localhost:8080/"
        },
        "id": "XQA7kY_JJWrf",
        "outputId": "72b06e4e-6ec2-4199-bd63-8c48bd6736ef"
      },
      "execution_count": 17,
      "outputs": [
        {
          "output_type": "stream",
          "name": "stdout",
          "text": [
            "Hello\n",
            "HELLO\n",
            " hello \n"
          ]
        }
      ]
    },
    {
      "cell_type": "code",
      "source": [
        "#Containers i.e. Lists[], Distct/Sets {}, and Tuples()"
      ],
      "metadata": {
        "id": "vRQCwccRJl-2"
      },
      "execution_count": 18,
      "outputs": []
    },
    {
      "cell_type": "code",
      "source": [
        "xs = [3, 2, 1]\n",
        "print (xs[-1])\n",
        "xs[2] = 'foo' # Lists can contain elements of different types print(xs)\n",
        "xs.append('bar') # Add a new element to the end of the list print(xs)\n",
        "x = xs.pop()\n",
        "print (xs)"
      ],
      "metadata": {
        "colab": {
          "base_uri": "https://localhost:8080/"
        },
        "id": "Zpf-nEEsJ37p",
        "outputId": "ff833b48-a9db-4797-c6af-4705a306852e"
      },
      "execution_count": 21,
      "outputs": [
        {
          "output_type": "stream",
          "name": "stdout",
          "text": [
            "1\n",
            "[3, 2, 'foo']\n"
          ]
        }
      ]
    },
    {
      "cell_type": "code",
      "source": [
        "#Slicing"
      ],
      "metadata": {
        "id": "FBG_MsADKWI7"
      },
      "execution_count": 22,
      "outputs": []
    },
    {
      "cell_type": "code",
      "source": [
        "nums = list(range(5)) # range is a built-in function that creates a list of integers\n",
        "print(nums) #\n",
        "print(nums[2:4]) # Get a slice from index 2 to 4 (exclusive);\n",
        "print(nums[2:]) # Get a slice from index 2 to the end;\n",
        "print(nums[:2]) # Get a slice from the start to index 2 (exclusive);\n",
        "print(nums[:]) # Get a slice of the whole list;\n",
        "print(nums[:-1]) # Slice indices can be negative;\n",
        "nums[2:4] = [8, 9] # Assign a new sublist to a slice\n",
        "print(nums)"
      ],
      "metadata": {
        "colab": {
          "base_uri": "https://localhost:8080/"
        },
        "id": "_r04USt3Kqr9",
        "outputId": "a998f20e-53b7-456f-e62c-ad1e30ebc762"
      },
      "execution_count": 23,
      "outputs": [
        {
          "output_type": "stream",
          "name": "stdout",
          "text": [
            "[0, 1, 2, 3, 4]\n",
            "[2, 3]\n",
            "[2, 3, 4]\n",
            "[0, 1]\n",
            "[0, 1, 2, 3, 4]\n",
            "[0, 1, 2, 3]\n",
            "[0, 1, 8, 9, 4]\n"
          ]
        }
      ]
    },
    {
      "cell_type": "code",
      "source": [
        "#Loops"
      ],
      "metadata": {
        "id": "dPOaln4yKmPG"
      },
      "execution_count": 24,
      "outputs": []
    },
    {
      "cell_type": "code",
      "source": [
        "animals = ['cats', 'dogs', 'monkeys']\n",
        "\n",
        "for i in animals:\n",
        "  print (i)"
      ],
      "metadata": {
        "colab": {
          "base_uri": "https://localhost:8080/"
        },
        "id": "YvHz69-uKu-y",
        "outputId": "4e824244-44f6-486e-f62c-108ab6b98368"
      },
      "execution_count": 25,
      "outputs": [
        {
          "output_type": "stream",
          "name": "stdout",
          "text": [
            "cats\n",
            "dogs\n",
            "monkeys\n"
          ]
        }
      ]
    },
    {
      "cell_type": "code",
      "source": [
        "#Lists Comprehensions etc"
      ],
      "metadata": {
        "id": "zy3ocpViLHMt"
      },
      "execution_count": 27,
      "outputs": []
    },
    {
      "cell_type": "code",
      "source": [
        "nums = [0, 1, 2, 3, 4]\n",
        "squares = []\n",
        "for x in nums:\n",
        "  squares.append(x ** 2)\n",
        "print(squares)"
      ],
      "metadata": {
        "colab": {
          "base_uri": "https://localhost:8080/"
        },
        "id": "aV9588FvK-mg",
        "outputId": "44c3c819-e3d3-4708-bfc2-c7b99af06a4c"
      },
      "execution_count": 30,
      "outputs": [
        {
          "output_type": "stream",
          "name": "stdout",
          "text": [
            "[0, 1, 4, 9, 16]\n"
          ]
        }
      ]
    },
    {
      "cell_type": "code",
      "source": [
        "#Dictionaries\n"
      ],
      "metadata": {
        "id": "sEhYAA_JLcho"
      },
      "execution_count": 31,
      "outputs": []
    },
    {
      "cell_type": "code",
      "source": [
        "d = {'cat': 'cute', 'dog': 'furry'} # Create a new dictionary with some data\n",
        "print(d['cat']) # Get an entry from a dictionary;\n",
        "print('cat' in d) # Check if a dictionary has a given key;"
      ],
      "metadata": {
        "colab": {
          "base_uri": "https://localhost:8080/"
        },
        "id": "t2PDnHK4LvUC",
        "outputId": "122593b1-63d9-488d-e71a-5b33d2aa53d3"
      },
      "execution_count": 32,
      "outputs": [
        {
          "output_type": "stream",
          "name": "stdout",
          "text": [
            "cute\n",
            "True\n"
          ]
        }
      ]
    },
    {
      "cell_type": "code",
      "source": [
        "#Sets"
      ],
      "metadata": {
        "id": "rlT380c3MLEi"
      },
      "execution_count": 37,
      "outputs": []
    },
    {
      "cell_type": "code",
      "source": [
        "animals = {'cat', 'dog'}\n",
        "print('cat' in animals) # Check if an element is in a set; prints \"True\"\n",
        "print('fish' in animals) # prints \"False\""
      ],
      "metadata": {
        "colab": {
          "base_uri": "https://localhost:8080/"
        },
        "id": "qpiusDfDL4QM",
        "outputId": "c72a325b-a293-4447-94df-37862a3ed403"
      },
      "execution_count": 38,
      "outputs": [
        {
          "output_type": "stream",
          "name": "stdout",
          "text": [
            "True\n",
            "False\n"
          ]
        }
      ]
    },
    {
      "cell_type": "code",
      "source": [
        "animals.add('fish') # Add an element to a set\n",
        "print('fish' in animals)\n",
        "print(len(animals)) # Number of elements in a set;\n",
        "animals.add('cat') # Adding an element that is already in the set does nothing\n",
        "print(len(animals))\n",
        "animals.remove('cat') # Remove an element from a set\n",
        "print(len(animals))"
      ],
      "metadata": {
        "colab": {
          "base_uri": "https://localhost:8080/"
        },
        "id": "WqRSlh2mMO4W",
        "outputId": "3e6ff0e9-98ae-45c4-827b-85640fbfc017"
      },
      "execution_count": 39,
      "outputs": [
        {
          "output_type": "stream",
          "name": "stdout",
          "text": [
            "True\n",
            "3\n",
            "3\n",
            "2\n"
          ]
        }
      ]
    },
    {
      "cell_type": "code",
      "source": [
        "#Loops\n"
      ],
      "metadata": {
        "id": "R5UoFzxnMUUN"
      },
      "execution_count": 40,
      "outputs": []
    },
    {
      "cell_type": "code",
      "source": [],
      "metadata": {
        "id": "wALeuje7MYZM"
      },
      "execution_count": 41,
      "outputs": []
    },
    {
      "cell_type": "code",
      "source": [],
      "metadata": {
        "id": "ym76V8-6Maqp"
      },
      "execution_count": null,
      "outputs": []
    }
  ]
}